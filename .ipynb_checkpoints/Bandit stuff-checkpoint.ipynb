{
 "cells": [
  {
   "cell_type": "code",
   "execution_count": 4,
   "id": "533964ce",
   "metadata": {},
   "outputs": [],
   "source": [
    "import numpy as np\n",
    "import matplotlib as plt"
   ]
  },
  {
   "cell_type": "code",
   "execution_count": null,
   "id": "4389357f",
   "metadata": {},
   "outputs": [],
   "source": []
  },
  {
   "cell_type": "code",
   "execution_count": 30,
   "id": "54c46d63",
   "metadata": {},
   "outputs": [
    {
     "name": "stderr",
     "output_type": "stream",
     "text": [
      "<>:9: SyntaxWarning: assertion is always true, perhaps remove parentheses?\n",
      "<>:9: SyntaxWarning: assertion is always true, perhaps remove parentheses?\n",
      "C:\\Users\\chinm\\AppData\\Local\\Temp\\ipykernel_29548\\3103105553.py:9: SyntaxWarning: assertion is always true, perhaps remove parentheses?\n",
      "  assert(arm in list(range(self.n_arms)), \"Invalid arm {}, only {} arms\".format(arm, self.n_arms))\n"
     ]
    }
   ],
   "source": [
    "class MABEnvironment:\n",
    "    def __init__(self, reward_dist:str =\"Bernoulli\", n_arms:int =5,\n",
    "                 param_list:np.ndarray[int]=np.array([0.1, 0.2, 0.3, 0.4, 0.5])):\n",
    "        self.reward_dist = reward_dist\n",
    "        self.n_arms = 5\n",
    "        self.param_list = param_list\n",
    "    \n",
    "    def step(self, arm):\n",
    "        assert(arm in list(range(self.n_arms)), \"Invalid arm {}, only {} arms\".format(arm, self.n_arms))\n",
    "        \n",
    "        if(self.reward_dist == \"Bernoulli\"):\n",
    "            reward = np.random.binomial(1, self.param_list[arm])\n",
    "            \n",
    "        return reward\n",
    "    \n",
    "    def run_alg_regret(alg, steps = 30):\n",
    "        \n",
    "        if(reward_dist == 'Bernoulli'):\n",
    "            best_arm = np.argmax(self.param_list)\n",
    "            best_mean_reward = self.param_list[best_arm]\n",
    "            \n",
    "        reward_array = np.array([])\n",
    "        arm = np.random.choice(np.arange(0,self.n_arms))\n",
    "        arm_array = np.array([arm])\n",
    "            \n",
    "        for i in range(steps):\n",
    "            reward = self.step(arm)\n",
    "            reward_array = np.append(reward_array, reward)\n",
    "            next_arm = alg(reward_array, arm_array, steps, n_arms)\n",
    "            arm_array = np.append(arm_array, next_arm)\n",
    "        \n",
    "        regret_array = np.array([(steps*best_mean_reward - np.sum(reward_array[:i])) for i in range(1,steps+1)])\n",
    "        \n",
    "        return regret_array"
   ]
  },
  {
   "cell_type": "code",
   "execution_count": null,
   "id": "5bc31286",
   "metadata": {},
   "outputs": [],
   "source": [
    "class OnlineMABAlgorithm:\n",
    "    \n",
    "    def __init__(steps:int, n_arms:int):\n",
    "        self.steps = steps\n",
    "        self.n_arms = n_arms\n",
    "\n",
    "\n",
    "class UCB(OnlineMABAlgorithm):\n",
    "    \n",
    "    def update(arm, reward):\n",
    "        "
   ]
  }
 ],
 "metadata": {
  "kernelspec": {
   "display_name": "Python 3 (ipykernel)",
   "language": "python",
   "name": "python3"
  },
  "language_info": {
   "codemirror_mode": {
    "name": "ipython",
    "version": 3
   },
   "file_extension": ".py",
   "mimetype": "text/x-python",
   "name": "python",
   "nbconvert_exporter": "python",
   "pygments_lexer": "ipython3",
   "version": "3.10.2"
  }
 },
 "nbformat": 4,
 "nbformat_minor": 5
}
